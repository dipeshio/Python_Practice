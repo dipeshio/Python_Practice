{
 "cells": [
  {
   "cell_type": "code",
   "execution_count": 3,
   "id": "13426c1e-932e-4a4b-9132-584db96d4d3d",
   "metadata": {},
   "outputs": [],
   "source": [
    "import random\n",
    "import torch as pt\n",
    "import pandas as pd\n",
    "import numpy as np\n",
    "import matplotlib.pyplot as plt\n",
    "from torch import nn ## nn contains all of PT building blocks"
   ]
  },
  {
   "cell_type": "code",
   "execution_count": 4,
   "id": "e17a7109-92d3-4d8e-ad37-8c6193cf83ea",
   "metadata": {
    "scrolled": true
   },
   "outputs": [
    {
     "data": {
      "image/png": "[encoded data removed]",
      "text/plain": [
       "<Figure size 400x400 with 1 Axes>"
      ]
     },
     "metadata": {},
     "output_type": "display_data"
    }
   ],
   "source": [
    "import torch as pt\n",
    "import matplotlib.pyplot as plt\n",
    "weight, bias = 0.7, 0.3\n",
    "\n",
    "# create data \n",
    "start = 0\n",
    "end = 1 \n",
    "dx = 0.02\n",
    "X = pt.arange(start, end, dx).unsqueeze(dim=1)\n",
    "y = weight*X + bias\n",
    "X[:10], y[:10]\n",
    "\n",
    "tsplit=  int(0.8 * len(X))\n",
    "X_train, y_train = X[:tsplit], y[:tsplit]\n",
    "X_test, y_test = X[tsplit:], y[tsplit:]\n",
    "\n",
    "def plot_pred(train_data = X_train, train_labels = y_train, test_data = X_test, test_labels = y_test, preds = None):\n",
    "    plt.figure(figsize=(4,4))\n",
    "    plt.scatter(train_data, train_labels, c=\"blue\", s=4)\n",
    "    plt.scatter(test_data, test_labels, c=\"g\", s=4)\n",
    "    if preds is not None:\n",
    "        plt.scatter(test_data, preds, c=\"r\", s=4)\n",
    "  \n",
    "plot_pred()"
   ]
  },
  {
   "cell_type": "code",
   "execution_count": 6,
   "id": "9bd2968e-3f97-4865-a996-0d081428510c",
   "metadata": {},
   "outputs": [
    {
     "data": {
      "text/plain": [
       "OrderedDict([('weights', tensor([0.3367])), ('bias', tensor([0.1288]))])"
      ]
     },
     "execution_count": 6,
     "metadata": {},
     "output_type": "execute_result"
    }
   ],
   "source": [
    "## first pytorch model, linear regression --> Y = B_0, B_1X + Err\n",
    "\n",
    "class LinReg(nn.Module):\n",
    "    def __init__(self):\n",
    "        super().__init__()\n",
    "        self.weights = nn.Parameter(pt.randn(1,requires_grad=True, dtype=pt.float)) ## requires_grad --> keeps track of the parameters, and then updates them\n",
    "        self.bias = nn.Parameter(pt.randn(1, requires_grad = True, dtype=pt.float))\n",
    "\n",
    "    def forward(self, x: pt.Tensor) -> pt.Tensor:\n",
    "        return self.weights * x + self.bias ## linear regression formula\n",
    "\n",
    "## gradient descent:abs\n",
    "## start with random values, looks at training data, and adjust the random values to get close to ideal valuesabs\n",
    "## through gradient descent and backpropagation\n",
    "\n",
    "pt.manual_seed(42)\n",
    "## instance of the model we created\n",
    "model_0 = LinReg()\n",
    "list(model_0.parameters())\n",
    "model_0.state_dict()\n"
   ]
  },
  {
   "cell_type": "code",
   "execution_count": 8,
   "id": "5cf9d011-9c97-4001-b644-bddbb2f006c4",
   "metadata": {},
   "outputs": [
    {
     "data": {
      "text/plain": [
       "tensor([[0.3982],\n",
       "        [0.4049],\n",
       "        [0.4116],\n",
       "        [0.4184],\n",
       "        [0.4251],\n",
       "        [0.4318],\n",
       "        [0.4386],\n",
       "        [0.4453],\n",
       "        [0.4520],\n",
       "        [0.4588]])"
      ]
     },
     "execution_count": 8,
     "metadata": {},
     "output_type": "execute_result"
    }
   ],
   "source": [
    "## making predictions with pt.infrence_mode()\n",
    "with pt.inference_mode():\n",
    "    y_preds = model_0(X_test)\n",
    "y_preds"
   ]
  },
  {
   "cell_type": "code",
   "execution_count": 81,
   "id": "9925843b-bb6a-47cb-8f35-c0e4d986e1d5",
   "metadata": {},
   "outputs": [
    {
     "data": {
      "text/plain": [
       "ASGD (\n",
       "Parameter Group 0\n",
       "    alpha: 0.75\n",
       "    capturable: False\n",
       "    differentiable: False\n",
       "    foreach: None\n",
       "    lambd: 0.0001\n",
       "    lr: 0.01\n",
       "    maximize: False\n",
       "    t0: 1000000.0\n",
       "    weight_decay: 0\n",
       ")"
      ]
     },
     "execution_count": 81,
     "metadata": {},
     "output_type": "execute_result"
    }
   ],
   "source": [
    "## training our first model --> whole idea of training  is for model to move from unknown parameters to some known parameters.\n",
    "## from a poor representation to a better representation of the data :3\n",
    "\n",
    "## loss function\n",
    "loss_fn  = nn.L1Loss()\n",
    "loss_fn\n",
    "\n",
    "# optimizer function\n",
    "para = model_0.parameters()\n",
    "optim_fm = pt.optim.ASGD(para, lr=0.01)\n",
    "## param is a value the model sets itself, learning rate (lr)  is a hyperparameter that we can set"
   ]
  },
  {
   "cell_type": "code",
   "execution_count": 1,
   "id": "2b79db4b-fa74-43b3-8e9d-be64c730eb74",
   "metadata": {},
   "outputs": [
    {
     "ename": "NameError",
     "evalue": "name 'model_0' is not defined",
     "output_type": "error",
     "traceback": [
      "\u001b[1;31m---------------------------------------------------------------------------\u001b[0m",
      "\u001b[1;31mNameError\u001b[0m                                 Traceback (most recent call last)",
      "Cell \u001b[1;32mIn[1], line 5\u001b[0m\n\u001b[0;32m      2\u001b[0m epochs \u001b[38;5;241m=\u001b[39m \u001b[38;5;241m100\u001b[39m \u001b[38;5;66;03m## amount of times to test, i.e. n loop through the data\u001b[39;00m\n\u001b[0;32m      3\u001b[0m \u001b[38;5;28;01mfor\u001b[39;00m epoch \u001b[38;5;129;01min\u001b[39;00m \u001b[38;5;28mrange\u001b[39m(epochs):\n\u001b[0;32m      4\u001b[0m     \u001b[38;5;66;03m## setting model to training mode \u001b[39;00m\n\u001b[1;32m----> 5\u001b[0m     \u001b[43mmodel_0\u001b[49m\u001b[38;5;241m.\u001b[39mtrain() \u001b[38;5;66;03m## model_0.eval(), turns off gradient tracking\u001b[39;00m\n\u001b[0;32m      6\u001b[0m     \u001b[38;5;66;03m## forward pass\u001b[39;00m\n\u001b[0;32m      7\u001b[0m     y_pred \u001b[38;5;241m=\u001b[39m model_0(X_train)\n",
      "\u001b[1;31mNameError\u001b[0m: name 'model_0' is not defined"
     ]
    }
   ],
   "source": [
    "## creating a trainling loop and testing loop \n",
    "epochs = 100 ## amount of times to test, i.e. n loop through the data\n",
    "for epoch in range(epochs):\n",
    "    ## setting model to training mode \n",
    "    model_0.train() ## model_0.eval(), turns off gradient tracking\n",
    "    ## forward pass\n",
    "    y_pred = model_0(X_train)\n",
    "    loss = loss_fn(y_pred, y_train) ## --> predicted - exepected or input - target\n",
    "\n",
    "    ## optimizer, zero gradient\n",
    "    optim_fm.zero_grad()\n",
    "\n",
    "    ## perform backprop on loss \n",
    "    loss.backward()\n",
    "\n",
    "    ## step the optimizer\n",
    "    optim_fm.step()\n",
    "    \n"
   ]
  },
  {
   "cell_type": "code",
   "execution_count": null,
   "id": "237d41df-6b35-4f3e-aa88-593c810f4f96",
   "metadata": {},
   "outputs": [],
   "source": []
  }
 ],
 "metadata": {
  "kernelspec": {
   "display_name": "Python 3",
   "language": "python",
   "name": "python3"
  },
  "language_info": {
   "codemirror_mode": {
    "name": "ipython",
    "version": 3
   },
   "file_extension": ".py",
   "mimetype": "text/x-python",
   "name": "python",
   "nbconvert_exporter": "python",
   "pygments_lexer": "ipython3",
   "version": "3.12.5"
  }
 },
 "nbformat": 4,
 "nbformat_minor": 5
}
