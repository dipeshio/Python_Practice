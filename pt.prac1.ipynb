{
 "cells": [
  {
   "cell_type": "code",
   "execution_count": 1,
   "id": "4327ca540036ca51",
   "metadata": {
    "ExecuteTime": {
     "end_time": "2024-10-14T15:50:47.287121700Z",
     "start_time": "2024-10-14T15:50:39.795927Z"
    },
    "collapsed": false
   },
   "outputs": [
    {
     "ename": "ModuleNotFoundError",
     "evalue": "No module named 'torch'",
     "output_type": "error",
     "traceback": [
      "\u001b[1;31m---------------------------------------------------------------------------\u001b[0m",
      "\u001b[1;31mModuleNotFoundError\u001b[0m                       Traceback (most recent call last)",
      "Cell \u001b[1;32mIn[1], line 1\u001b[0m\n\u001b[1;32m----> 1\u001b[0m \u001b[38;5;28;01mimport\u001b[39;00m \u001b[38;5;21;01mtorch\u001b[39;00m\n\u001b[0;32m      2\u001b[0m \u001b[38;5;28;01mimport\u001b[39;00m \u001b[38;5;21;01mrandom\u001b[39;00m\n\u001b[0;32m      3\u001b[0m \u001b[38;5;28;01mimport\u001b[39;00m \u001b[38;5;21;01mpandas\u001b[39;00m\n",
      "\u001b[1;31mModuleNotFoundError\u001b[0m: No module named 'torch'"
     ]
    }
   ],
   "source": [
    "import torch\n",
    "import random\n",
    "import pandas\n",
    "import numpy\n",
    "from torch import nn\n",
    "import matplotlib.pyplot as plt"
   ]
  },
  {
   "cell_type": "code",
   "execution_count": 204,
   "id": "70f5f420",
   "metadata": {},
   "outputs": [
    {
     "name": "stdout",
     "output_type": "stream",
     "text": [
      "torch.Size([40, 1]) torch.Size([40, 1]) torch.Size([10, 1]) torch.Size([10, 1])\n"
     ]
    }
   ],
   "source": [
    "# model stuff\n",
    "weight, bias = 0.7, 0.3\n",
    "\n",
    "# create data \n",
    "start = 0\n",
    "end = 1 \n",
    "dx = 0.02\n",
    "X = torch.arange(start, end, dx).unsqueeze(dim=1)\n",
    "y = weight*X + bias\n",
    "X[:10], y[:10]\n",
    "\n",
    "tsplit=  int(0.8 * len(X))\n",
    "X_train, y_train = X[:tsplit], y[:tsplit]\n",
    "X_test, y_test = X[tsplit:], y[tsplit:]\n",
    "print(X_train.shape, y_train.shape, X_test.shape, y_test.shape)\n",
    "\n",
    "\n",
    "def plot_pred(train_data = X_train, train_labels = y_train, test_data = X_test, test_labels = y_test, preds = None):\n",
    "    plt.figure(figsize=(4,4))\n",
    "    plt.scatter(train_data, train_labels, c=\"blue\", s=4)\n",
    "    plt.scatter(test_data, test_labels, c=\"g\", s=4)\n",
    "    if preds is not None:\n",
    "        plt.scatter(test_data, preds, c=\"r\", s=4)\n",
    "    plt.show()"
   ]
  },
  {
   "cell_type": "code",
   "execution_count": 205,
   "id": "4cc52b7ee390ea3c",
   "metadata": {
    "collapsed": false
   },
   "outputs": [],
   "source": [
    "# Creating a lin reg model with a lin_reg class \n",
    "\n",
    "class LinReg(nn.Module):\n",
    "    def __init__(self):\n",
    "        super().__init__() ## TODO: find out what this syntax/function is?\n",
    "        self.weights = nn.Parameter(torch.randn(1, requires_grad = True, dtype=torch.float))\n",
    "        self.bias = nn.Parameter(torch.randn(1, requires_grad=True, dtype=torch.float))\n",
    "\n",
    "        ## self.weights: Parameter for a neural network, like a parameter in a function\n",
    "    def forward(self, x:torch.Tensor): ## <-- is supposed to return a torch.tensor type\n",
    "        return self.weights*x + self.bias ## <-- this is the linear regression model, y = mx + b, where m is self.weights x is a variable, and b is self.bias"
   ]
  },
  {
   "cell_type": "code",
   "execution_count": 280,
   "id": "d36088ec",
   "metadata": {},
   "outputs": [
    {
     "data": {
      "text/plain": [
       "tensor([[0.3982],\n",
       "        [0.4049],\n",
       "        [0.4116],\n",
       "        [0.4184],\n",
       "        [0.4251],\n",
       "        [0.4318],\n",
       "        [0.4386],\n",
       "        [0.4453],\n",
       "        [0.4520],\n",
       "        [0.4588]])"
      ]
     },
     "execution_count": 280,
     "metadata": {},
     "output_type": "execute_result"
    }
   ],
   "source": [
    "# Model building Essentials\n",
    "\n",
    "torch.manual_seed(42)\n",
    "model_0 = LinReg()\n",
    "list(model_0.parameters())\n",
    "\n",
    "y_pred = model_0(X_test).detach()\n",
    "y_pred"
   ]
  },
  {
   "cell_type": "code",
   "execution_count": 281,
   "id": "5eeb8e45",
   "metadata": {},
   "outputs": [
    {
     "data": {
      "text/plain": [
       "tensor([[0.3982],\n",
       "        [0.4049],\n",
       "        [0.4116],\n",
       "        [0.4184],\n",
       "        [0.4251],\n",
       "        [0.4318],\n",
       "        [0.4386],\n",
       "        [0.4453],\n",
       "        [0.4520],\n",
       "        [0.4588]])"
      ]
     },
     "execution_count": 281,
     "metadata": {},
     "output_type": "execute_result"
    }
   ],
   "source": [
    "## training our first model --> whole idea of training  is for model to move from unknown parameters to some known parameters.\n",
    "## from a poor representation to a better representation of the data :3\n",
    "with torch.inference_mode():\n",
    "    y_preds_new = model_0(X_test)\n",
    "\n",
    "## loss function\n",
    "loss_fn  = nn.L1Loss() ## or called mean absolute error loss (MAE)\n",
    "\n",
    "# optimizer function\n",
    "para = model_0.parameters()\n",
    "optimizer_func = torch.optim.ASGD(para, lr=0.01) ## ASGD = Averaged Stochastic Gradient Descent optimizer\n",
    "## param is a value the model sets itself, learning rate (lr)  is a hyperparameter that we can set\n",
    "y_pred\n",
    "y_test\n",
    "\n",
    "\n",
    "list(model_0.parameters())\n",
    "y_preds_new"
   ]
  },
  {
   "cell_type": "code",
   "execution_count": 282,
   "id": "891eede3",
   "metadata": {},
   "outputs": [
    {
     "name": "stdout",
     "output_type": "stream",
     "text": [
      "Epoch: 0, Training Loss: 0.31288138031959534, Testing Loss: 0.481065571308136\n",
      "Epoch: 10, Training Loss: 0.19767488539218903, Testing Loss: 0.3463612496852875\n",
      "Epoch: 20, Training Loss: 0.08909468352794647, Testing Loss: 0.21731042861938477\n",
      "Epoch: 30, Training Loss: 0.05315480753779411, Testing Loss: 0.1446629762649536\n",
      "Epoch: 40, Training Loss: 0.045441605150699615, Testing Loss: 0.11364114284515381\n",
      "Epoch: 50, Training Loss: 0.04168197140097618, Testing Loss: 0.09923985600471497\n",
      "Epoch: 60, Training Loss: 0.03819282725453377, Testing Loss: 0.0882287546992302\n",
      "Epoch: 70, Training Loss: 0.03476398438215256, Testing Loss: 0.08065230399370193\n",
      "Epoch: 80, Training Loss: 0.03132996708154678, Testing Loss: 0.07238899916410446\n",
      "Epoch: 90, Training Loss: 0.02789219096302986, Testing Loss: 0.06412558257579803\n",
      "Epoch: 100, Training Loss: 0.024464309215545654, Testing Loss: 0.05654941126704216\n",
      "Epoch: 110, Training Loss: 0.021029645577073097, Testing Loss: 0.04828645661473274\n",
      "Epoch: 120, Training Loss: 0.017592553049325943, Testing Loss: 0.04071063548326492\n",
      "Epoch: 130, Training Loss: 0.014165138825774193, Testing Loss: 0.032448165118694305\n",
      "Epoch: 140, Training Loss: 0.010729962959885597, Testing Loss: 0.024185722693800926\n",
      "Epoch: 150, Training Loss: 0.007293775677680969, Testing Loss: 0.016610031947493553\n",
      "Epoch: 160, Training Loss: 0.003866462502628565, Testing Loss: 0.008347684517502785\n",
      "Epoch: 170, Training Loss: 0.003952701576054096, Testing Loss: 0.011828804388642311\n",
      "Epoch: 180, Training Loss: 0.0039468249306082726, Testing Loss: 0.011838143691420555\n",
      "Epoch: 190, Training Loss: 0.00394099485129118, Testing Loss: 0.011847483925521374\n",
      "OrderedDict({'weights': tensor([0.6954]), 'bias': tensor([0.3057])})\n"
     ]
    }
   ],
   "source": [
    "# Training loop and testing loop\n",
    "epochs = 200 ## <-- number of times we want to train the model\n",
    "epoch_count = []\n",
    "loss_value = []\n",
    "test_loss_value = []\n",
    "\n",
    "for epoch in range(epochs):\n",
    "    model_0.train() ## <-- this is a function that sets the model to training mode\n",
    "        \n",
    "    # 1. forward pass\n",
    "    y_preds = model_0(X_train)\n",
    "    \n",
    "    # 2. calculate loss\n",
    "    loss = loss_fn(y_preds, y_train) ## <-- this is the loss function that we defined earlier, setting our prediction variables first and our training variables\n",
    "    ## this is calculating the difference between our predicted values and our actual/ideal values --> residuals\n",
    "    \n",
    "    # 3. optimizer zero grad\n",
    "    optimizer_func.zero_grad() ## <-- this is a function that sets the gradients to zero\n",
    "    \n",
    "    # 4. performing backprop on the loss w/respect to the parameters of the model\n",
    "    loss.backward() ## <-- this is a function that calculates the gradients of the loss w/respect to the parameters of the model\n",
    "    \n",
    "    # 5. optimizer (perform gradient descent)\n",
    "    optimizer_func.step() ## <-- this is a function that updates the parameters of the model\n",
    "    \n",
    "    model_0.eval() ## <-- this is a function that sets the model to evaluation mode\n",
    "    \n",
    "    ## testing our model\n",
    "    \n",
    "    with torch.inference_mode():\n",
    "        tp_pred = model_0(X_test)\n",
    "        tp_loss = loss_fn(tp_pred, y_test)\n",
    "    if epoch %10 == 0:\n",
    "        epoch_count.append(epoch)\n",
    "        loss_value.append(loss)\n",
    "        test_loss_value.append(tp_loss)\n",
    "        print(f\"Epoch: {epoch}, Training Loss: {loss.item()}, Testing Loss: {tp_loss.item()}\")\n",
    "        \n",
    "\n",
    "print(model_0.state_dict())\n"
   ]
  },
  {
   "cell_type": "code",
   "execution_count": 300,
   "id": "6511e190",
   "metadata": {},
   "outputs": [
    {
     "data": {
      "image/png": "[encoded data removed]",
      "text/plain": [
       "<Figure size 640x480 with 1 Axes>"
      ]
     },
     "metadata": {},
     "output_type": "display_data"
    }
   ],
   "source": [
    "import numpy as np\n",
    "loss_value, test_loss_value = np.array(torch.tensor(loss_value).cpu().numpy()), np.array(torch.tensor(test_loss_value).cpu().numpy())\n",
    "loss_value, test_loss_value\n",
    "plt.plot(epoch_count, loss_value, label=\"Training Loss\")\n",
    "plt.plot(epoch_count, test_loss_value, label=\"Testing Loss\")\n",
    "plt.title(\"Training and Test loss curves\")\n",
    "plt.xlabel(\"Epochs\")\n",
    "plt.ylabel(\"Loss\")\n",
    "plt.legend();"
   ]
  },
  {
   "cell_type": "code",
   "execution_count": null,
   "id": "4c84be10",
   "metadata": {},
   "outputs": [],
   "source": []
  },
  {
   "cell_type": "code",
   "execution_count": null,
   "id": "5d59a05d",
   "metadata": {},
   "outputs": [],
   "source": []
  }
 ],
 "metadata": {
  "kernelspec": {
   "display_name": "env",
   "language": "python",
   "name": "python3"
  },
  "language_info": {
   "codemirror_mode": {
    "name": "ipython",
    "version": 3
   },
   "file_extension": ".py",
   "mimetype": "text/x-python",
   "name": "python",
   "nbconvert_exporter": "python",
   "pygments_lexer": "ipython3",
   "version": "3.12.2"
  }
 },
 "nbformat": 4,
 "nbformat_minor": 5
}
